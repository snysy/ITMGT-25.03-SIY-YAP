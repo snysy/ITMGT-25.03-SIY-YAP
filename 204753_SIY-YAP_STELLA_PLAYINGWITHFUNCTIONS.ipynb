{
 "cells": [
  {
   "cell_type": "code",
   "execution_count": 1,
   "id": "f57fe155-8b6f-404e-87f2-5b46fd6ef1cb",
   "metadata": {},
   "outputs": [],
   "source": [
    "def problem_1(number):\n",
    "    if number < 0:\n",
    "        print(\"no factorial\")\n",
    "    elif number == 0 or number == 1:\n",
    "        return 1\n",
    "    else:\n",
    "        factorial = 1\n",
    "        for i in range(1,number+1):\n",
    "            factorial *= i \n",
    "        return factorial"
   ]
  },
  {
   "cell_type": "code",
   "execution_count": 2,
   "id": "f0083302-964e-4a48-a7ad-19f8d4970e67",
   "metadata": {},
   "outputs": [
    {
     "data": {
      "text/plain": [
       "5040"
      ]
     },
     "execution_count": 2,
     "metadata": {},
     "output_type": "execute_result"
    }
   ],
   "source": [
    "problem_1(7)"
   ]
  },
  {
   "cell_type": "code",
   "execution_count": 4,
   "id": "641e490b-cbef-4b61-a054-9a6461db2e3f",
   "metadata": {},
   "outputs": [],
   "source": [
    "def problem_2(passphrase):\n",
    "    correct = \"stella\"\n",
    "    retry = 3\n",
    "    while True:\n",
    "        if passphrase == correct:\n",
    "            print(\"1\")     \n",
    "            break\n",
    "        else: \n",
    "            if retry == 0:\n",
    "                print(\"0\")\n",
    "                break \n",
    "            else: \n",
    "                retry = retry - 1\n",
    "                passphrase = input(\"Please try again: \")"
   ]
  },
  {
   "cell_type": "code",
   "execution_count": null,
   "id": "3ba36ad6-3695-41f5-8bc9-0a0da19f0595",
   "metadata": {},
   "outputs": [],
   "source": [
    "problem_2(\"yes\")"
   ]
  },
  {
   "cell_type": "code",
   "execution_count": 19,
   "id": "e360ce04-2c2c-44cd-aab3-1fa89daae89e",
   "metadata": {},
   "outputs": [],
   "source": [
    "def problem_3(temp, original_format, new_format):\n",
    "    temp = float(temp)\n",
    "    if original_format == new_format:\n",
    "        return temp\n",
    "    elif original_format == \"Celsius\" and new_format == \"Fahrenheit\":\n",
    "        return (temp*9/5)+32\n",
    "    elif original_format == \"Celsius\" and new_format == \"Kelvin\":\n",
    "        return temp+273.15\n",
    "    elif original_format == \"Fahrenheit\" and new_format == \"Celsius\":\n",
    "        return (temp-32)*5/9\n",
    "    elif original_format == \"Fahrenheit\" and new_format == \"Kelvin\":\n",
    "        return (temp-32)*5/9+273.15\n",
    "    elif original_format == \"Kelvin\" and new_format == \"Celsius\":\n",
    "        return temp-273.15\n",
    "    else: \n",
    "        return (temp-273.15)*9/5+32"
   ]
  },
  {
   "cell_type": "code",
   "execution_count": 20,
   "id": "00d15534-8d4f-475c-b47a-b2e1b2e7b4cf",
   "metadata": {},
   "outputs": [
    {
     "data": {
      "text/plain": [
       "-402.07"
      ]
     },
     "execution_count": 20,
     "metadata": {},
     "output_type": "execute_result"
    }
   ],
   "source": [
    "problem_3(32, \"Kelvin\", \"Fahrenheit\")"
   ]
  },
  {
   "cell_type": "code",
   "execution_count": 34,
   "id": "36aea74f-9563-4afe-beda-1bbfd17700d8",
   "metadata": {},
   "outputs": [],
   "source": []
  },
  {
   "cell_type": "code",
   "execution_count": 35,
   "id": "df4e9fd7-aabf-4b79-b97a-0c2b4ca13c5b",
   "metadata": {},
   "outputs": [
    {
     "name": "stdout",
     "output_type": "stream",
     "text": [
      "1P: 1 /25C: 4 /10C: 10 /5C: 20 /1C: 100\n"
     ]
    }
   ],
   "source": []
  },
  {
   "cell_type": "code",
   "execution_count": 5,
   "id": "3a1cf2b4-e325-42cd-850a-8c559211f58e",
   "metadata": {},
   "outputs": [],
   "source": [
    "def problem_4(money):\n",
    "    money = int(money)\n",
    "    a = money//100\n",
    "    f = money%100\n",
    "    \n",
    "    b = f//25\n",
    "    g = f%25\n",
    "    \n",
    "    c = g//10\n",
    "    h = g%10\n",
    "    \n",
    "    d = h//5\n",
    "    i = h%5\n",
    "    \n",
    "    e = i//1\n",
    "    j= i%1\n",
    "    i=print(\"1P:\",a,\"/25C:\",b,\"/10C:\",c,\"/5C:\",d,\"/1C:\",e)\n",
    "    return i"
   ]
  },
  {
   "cell_type": "code",
   "execution_count": 6,
   "id": "77e3c766-0623-452c-84d3-ca95c78d9a8b",
   "metadata": {},
   "outputs": [
    {
     "name": "stdout",
     "output_type": "stream",
     "text": [
      "1P: 0 /25C: 3 /10C: 0 /5C: 0 /1C: 3\n"
     ]
    }
   ],
   "source": [
    "problem_4(78)"
   ]
  },
  {
   "cell_type": "code",
   "execution_count": 45,
   "id": "f2d13e6b-037c-4aca-943c-26014be42f6d",
   "metadata": {},
   "outputs": [],
   "source": [
    "def problem_5(test):\n",
    "    a = test\n",
    "    converted = \"\"\n",
    "    for x in range (0, len(a)):\n",
    "        if ord(a[x]) >= 65 and ord(a[x]) <= 90:\n",
    "            converted = converted + chr(ord(a[x])+32)\n",
    "        elif ord(a[x]) >= 97 and ord(a[x]) <= 122:\n",
    "            converted = converted + chr(ord(a[x])-32)\n",
    "        else:\n",
    "            converted = converted + a[x]\n",
    "            \n",
    "    return converted"
   ]
  },
  {
   "cell_type": "code",
   "execution_count": null,
   "id": "de9ca402",
   "metadata": {},
   "outputs": [],
   "source": []
  },
  {
   "cell_type": "code",
   "execution_count": 47,
   "id": "4644a685-7d5f-493a-bcd7-04eb8ee5fe91",
   "metadata": {},
   "outputs": [
    {
     "data": {
      "text/plain": [
       "'tEST mE'"
      ]
     },
     "execution_count": 47,
     "metadata": {},
     "output_type": "execute_result"
    }
   ],
   "source": [
    "problem_5(\"Test Me\")"
   ]
  },
  {
   "cell_type": "code",
   "execution_count": null,
   "id": "345d0c48-7077-4163-bfe0-8cd4f4d27f39",
   "metadata": {},
   "outputs": [],
   "source": []
  }
 ],
 "metadata": {
  "kernelspec": {
   "display_name": "Python 3",
   "language": "python",
   "name": "python3"
  },
  "language_info": {
   "codemirror_mode": {
    "name": "ipython",
    "version": 3
   },
   "file_extension": ".py",
   "mimetype": "text/x-python",
   "name": "python",
   "nbconvert_exporter": "python",
   "pygments_lexer": "ipython3",
   "version": "3.8.8"
  }
 },
 "nbformat": 4,
 "nbformat_minor": 5
}
